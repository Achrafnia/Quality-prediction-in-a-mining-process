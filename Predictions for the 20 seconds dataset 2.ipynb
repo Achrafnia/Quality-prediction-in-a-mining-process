{
 "cells": [
  {
   "cell_type": "code",
   "execution_count": 1,
   "metadata": {},
   "outputs": [],
   "source": [
    "import numpy as np\n",
    "\n",
    "import pandas as pd\n",
    "\n",
    "import matplotlib.pyplot as plt\n",
    "\n",
    "import seaborn as sns\n",
    "import matplotlib"
   ]
  },
  {
   "cell_type": "code",
   "execution_count": 2,
   "metadata": {},
   "outputs": [],
   "source": [
    "df = pd.read_csv('C:/Users/moham/Desktop/MiningProcess_Flotation_Plant_Database_seconds.csv', decimal=',')"
   ]
  },
  {
   "cell_type": "code",
   "execution_count": 3,
   "metadata": {},
   "outputs": [],
   "source": [
    "df.set_index('date', inplace=True)\n"
   ]
  },
  {
   "cell_type": "code",
   "execution_count": 4,
   "metadata": {},
   "outputs": [
    {
     "data": {
      "text/plain": [
       "(737453, 23)"
      ]
     },
     "execution_count": 4,
     "metadata": {},
     "output_type": "execute_result"
    }
   ],
   "source": [
    "df.shape\n"
   ]
  },
  {
   "cell_type": "code",
   "execution_count": 7,
   "metadata": {},
   "outputs": [],
   "source": [
    "df.columns= [ '% Iron Feed', '% Silica Feed','Starch Flow','Amina Flow','Ore Pulp Flow','Ore Pulp pH','Ore Pulp Density','p-Flotation Column 01 Air Flow','p-Flotation Column 02 Air Flow','p-Flotation Column 03 Air Flow','p-Flotation Column 04 Air Flow','p-Flotation Column 05 Air Flow','p-Flotation Column 06 Air Flow','p-Flotation Column 07 Air Flow','p-Flotation Column 01 Level','p-Flotation Column 02 Level','p-Flotation Column 03 Level','p-Flotation Column 04 Level','p-Flotation Column 05 Level','p-Flotation Column 06 Level','p-Flotation Column 07 Level','% Iron Concentrate','% Silica Concentrate']"
   ]
  },
  {
   "cell_type": "code",
   "execution_count": 8,
   "metadata": {},
   "outputs": [
    {
     "data": {
      "text/html": [
       "<div>\n",
       "<style scoped>\n",
       "    .dataframe tbody tr th:only-of-type {\n",
       "        vertical-align: middle;\n",
       "    }\n",
       "\n",
       "    .dataframe tbody tr th {\n",
       "        vertical-align: top;\n",
       "    }\n",
       "\n",
       "    .dataframe thead th {\n",
       "        text-align: right;\n",
       "    }\n",
       "</style>\n",
       "<table border=\"1\" class=\"dataframe\">\n",
       "  <thead>\n",
       "    <tr style=\"text-align: right;\">\n",
       "      <th></th>\n",
       "      <th>% Iron Feed</th>\n",
       "      <th>% Silica Feed</th>\n",
       "      <th>Starch Flow</th>\n",
       "      <th>Amina Flow</th>\n",
       "      <th>Ore Pulp Flow</th>\n",
       "      <th>Ore Pulp pH</th>\n",
       "      <th>Ore Pulp Density</th>\n",
       "      <th>p-Flotation Column 01 Air Flow</th>\n",
       "      <th>p-Flotation Column 02 Air Flow</th>\n",
       "      <th>p-Flotation Column 03 Air Flow</th>\n",
       "      <th>...</th>\n",
       "      <th>p-Flotation Column 07 Air Flow</th>\n",
       "      <th>p-Flotation Column 01 Level</th>\n",
       "      <th>p-Flotation Column 02 Level</th>\n",
       "      <th>p-Flotation Column 03 Level</th>\n",
       "      <th>p-Flotation Column 04 Level</th>\n",
       "      <th>p-Flotation Column 05 Level</th>\n",
       "      <th>p-Flotation Column 06 Level</th>\n",
       "      <th>p-Flotation Column 07 Level</th>\n",
       "      <th>% Iron Concentrate</th>\n",
       "      <th>% Silica Concentrate</th>\n",
       "    </tr>\n",
       "    <tr>\n",
       "      <th>date</th>\n",
       "      <th></th>\n",
       "      <th></th>\n",
       "      <th></th>\n",
       "      <th></th>\n",
       "      <th></th>\n",
       "      <th></th>\n",
       "      <th></th>\n",
       "      <th></th>\n",
       "      <th></th>\n",
       "      <th></th>\n",
       "      <th></th>\n",
       "      <th></th>\n",
       "      <th></th>\n",
       "      <th></th>\n",
       "      <th></th>\n",
       "      <th></th>\n",
       "      <th></th>\n",
       "      <th></th>\n",
       "      <th></th>\n",
       "      <th></th>\n",
       "      <th></th>\n",
       "    </tr>\n",
       "  </thead>\n",
       "  <tbody>\n",
       "    <tr>\n",
       "      <th>2017-03-10 01:00:00</th>\n",
       "      <td>55.2</td>\n",
       "      <td>16.98</td>\n",
       "      <td>3019.53</td>\n",
       "      <td>557.434</td>\n",
       "      <td>395.713</td>\n",
       "      <td>10.0664</td>\n",
       "      <td>1.74</td>\n",
       "      <td>249.214</td>\n",
       "      <td>253.235</td>\n",
       "      <td>250.576</td>\n",
       "      <td>...</td>\n",
       "      <td>250.884</td>\n",
       "      <td>457.396</td>\n",
       "      <td>432.962</td>\n",
       "      <td>424.954</td>\n",
       "      <td>443.558</td>\n",
       "      <td>502.255</td>\n",
       "      <td>446.37</td>\n",
       "      <td>523.344</td>\n",
       "      <td>66.91</td>\n",
       "      <td>1.31</td>\n",
       "    </tr>\n",
       "  </tbody>\n",
       "</table>\n",
       "<p>1 rows × 23 columns</p>\n",
       "</div>"
      ],
      "text/plain": [
       "                     % Iron Feed  % Silica Feed  Starch Flow  Amina Flow  \\\n",
       "date                                                                       \n",
       "2017-03-10 01:00:00         55.2          16.98      3019.53     557.434   \n",
       "\n",
       "                     Ore Pulp Flow  Ore Pulp pH  Ore Pulp Density  \\\n",
       "date                                                                \n",
       "2017-03-10 01:00:00        395.713      10.0664              1.74   \n",
       "\n",
       "                     p-Flotation Column 01 Air Flow  \\\n",
       "date                                                  \n",
       "2017-03-10 01:00:00                         249.214   \n",
       "\n",
       "                     p-Flotation Column 02 Air Flow  \\\n",
       "date                                                  \n",
       "2017-03-10 01:00:00                         253.235   \n",
       "\n",
       "                     p-Flotation Column 03 Air Flow  ...  \\\n",
       "date                                                 ...   \n",
       "2017-03-10 01:00:00                         250.576  ...   \n",
       "\n",
       "                     p-Flotation Column 07 Air Flow  \\\n",
       "date                                                  \n",
       "2017-03-10 01:00:00                         250.884   \n",
       "\n",
       "                     p-Flotation Column 01 Level  p-Flotation Column 02 Level  \\\n",
       "date                                                                            \n",
       "2017-03-10 01:00:00                      457.396                      432.962   \n",
       "\n",
       "                     p-Flotation Column 03 Level  p-Flotation Column 04 Level  \\\n",
       "date                                                                            \n",
       "2017-03-10 01:00:00                      424.954                      443.558   \n",
       "\n",
       "                     p-Flotation Column 05 Level  p-Flotation Column 06 Level  \\\n",
       "date                                                                            \n",
       "2017-03-10 01:00:00                      502.255                       446.37   \n",
       "\n",
       "                     p-Flotation Column 07 Level  % Iron Concentrate  \\\n",
       "date                                                                   \n",
       "2017-03-10 01:00:00                      523.344               66.91   \n",
       "\n",
       "                     % Silica Concentrate  \n",
       "date                                       \n",
       "2017-03-10 01:00:00                  1.31  \n",
       "\n",
       "[1 rows x 23 columns]"
      ]
     },
     "execution_count": 8,
     "metadata": {},
     "output_type": "execute_result"
    }
   ],
   "source": [
    "df.head(1)"
   ]
  },
  {
   "cell_type": "code",
   "execution_count": 10,
   "metadata": {},
   "outputs": [],
   "source": [
    "df = df.drop(['% Silica Concentrate'], axis=1)"
   ]
  },
  {
   "cell_type": "code",
   "execution_count": 13,
   "metadata": {},
   "outputs": [],
   "source": [
    "Y = df['% Iron Concentrate']\n",
    "X = df.drop(['% Iron Concentrate'], axis=1)"
   ]
  },
  {
   "cell_type": "code",
   "execution_count": 14,
   "metadata": {},
   "outputs": [],
   "source": [
    "from sklearn import preprocessing\n",
    "min_max_scaler = preprocessing.MinMaxScaler()"
   ]
  },
  {
   "cell_type": "code",
   "execution_count": 15,
   "metadata": {},
   "outputs": [],
   "source": [
    "X_scaled = pd.DataFrame(min_max_scaler.fit_transform(X), columns=X.columns)"
   ]
  },
  {
   "cell_type": "code",
   "execution_count": 16,
   "metadata": {},
   "outputs": [],
   "source": [
    "from sklearn.model_selection import train_test_split\n",
    "X_train, X_test, Y_train, Y_test = train_test_split(X_scaled, Y, test_size=0.2, random_state=42)"
   ]
  },
  {
   "cell_type": "code",
   "execution_count": 17,
   "metadata": {},
   "outputs": [],
   "source": [
    "from sklearn.linear_model import LinearRegression\n",
    "reg = LinearRegression()\n",
    "_ = reg.fit(X_train, Y_train)"
   ]
  },
  {
   "cell_type": "code",
   "execution_count": 18,
   "metadata": {},
   "outputs": [
    {
     "data": {
      "text/plain": [
       "array([64.85158647, 65.16074796, 65.3184749 , ..., 64.44251596,\n",
       "       65.50814416, 65.78876376])"
      ]
     },
     "execution_count": 18,
     "metadata": {},
     "output_type": "execute_result"
    }
   ],
   "source": [
    "predictions = reg.predict(X_test)\n",
    "predictions"
   ]
  },
  {
   "cell_type": "code",
   "execution_count": 19,
   "metadata": {},
   "outputs": [
    {
     "data": {
      "text/plain": [
       "1.0748237317022156"
      ]
     },
     "execution_count": 19,
     "metadata": {},
     "output_type": "execute_result"
    }
   ],
   "source": [
    "from sklearn.metrics import mean_squared_error\n",
    "from sklearn.metrics import r2_score\n",
    "error = mean_squared_error(Y_test, predictions)\n",
    "error"
   ]
  },
  {
   "cell_type": "code",
   "execution_count": 20,
   "metadata": {},
   "outputs": [
    {
     "data": {
      "text/plain": [
       "0.1386670955048609"
      ]
     },
     "execution_count": 20,
     "metadata": {},
     "output_type": "execute_result"
    }
   ],
   "source": [
    "Rsquar = r2_score(Y_test, predictions)\n",
    "Rsquar"
   ]
  },
  {
   "cell_type": "code",
   "execution_count": 21,
   "metadata": {},
   "outputs": [
    {
     "data": {
      "text/plain": [
       "DecisionTreeRegressor(max_depth=5)"
      ]
     },
     "execution_count": 21,
     "metadata": {},
     "output_type": "execute_result"
    }
   ],
   "source": [
    "from sklearn.tree import DecisionTreeRegressor\n",
    "regr_2 = DecisionTreeRegressor(max_depth=5)\n",
    "regr_2.fit(X_train, Y_train)"
   ]
  },
  {
   "cell_type": "code",
   "execution_count": 22,
   "metadata": {},
   "outputs": [],
   "source": [
    "Y_2 = regr_2.predict(X_test)"
   ]
  },
  {
   "cell_type": "code",
   "execution_count": 23,
   "metadata": {},
   "outputs": [
    {
     "data": {
      "text/plain": [
       "array([64.62640981, 65.32362645, 65.32362645, ..., 64.62640981,\n",
       "       65.32362645, 64.91701106])"
      ]
     },
     "execution_count": 23,
     "metadata": {},
     "output_type": "execute_result"
    }
   ],
   "source": [
    "Y_2"
   ]
  },
  {
   "cell_type": "code",
   "execution_count": 24,
   "metadata": {},
   "outputs": [
    {
     "data": {
      "text/plain": [
       "1.0346721636340346"
      ]
     },
     "execution_count": 24,
     "metadata": {},
     "output_type": "execute_result"
    }
   ],
   "source": [
    "error2 = mean_squared_error(Y_test, Y_2)\n",
    "error2"
   ]
  },
  {
   "cell_type": "code",
   "execution_count": 25,
   "metadata": {},
   "outputs": [
    {
     "data": {
      "text/plain": [
       "0.1386670955048609"
      ]
     },
     "execution_count": 25,
     "metadata": {},
     "output_type": "execute_result"
    }
   ],
   "source": [
    "Rsquar = r2_score(Y_test, predictions)\n",
    "Rsquar"
   ]
  },
  {
   "cell_type": "code",
   "execution_count": null,
   "metadata": {},
   "outputs": [],
   "source": [
    "from sklearn.ensemble import RandomForestRegressor\n",
    "\n",
    "regressor = RandomForestRegressor(n_estimators=20, random_state=42)\n",
    "regressor.fit(X_train, Y_train)\n",
    "Y_pred = regressor.predict(X_test)"
   ]
  },
  {
   "cell_type": "code",
   "execution_count": null,
   "metadata": {},
   "outputs": [],
   "source": [
    "Y_pred"
   ]
  },
  {
   "cell_type": "code",
   "execution_count": null,
   "metadata": {},
   "outputs": [],
   "source": [
    "error3 = mean_squared_error(Y_test, Y_pred)\n",
    "error3"
   ]
  },
  {
   "cell_type": "code",
   "execution_count": null,
   "metadata": {},
   "outputs": [],
   "source": [
    "from sklearn import metrics\n",
    "\n",
    "print('Mean Absolute Error:', metrics.mean_absolute_error(Y_test, Y_pred))\n",
    "print('Mean Squared Error:', metrics.mean_squared_error(Y_test, Y_pred))\n",
    "print('Root Mean Squared Error:', np.sqrt(metrics.mean_squared_error(Y_test, Y_pred)))"
   ]
  },
  {
   "cell_type": "code",
   "execution_count": null,
   "metadata": {},
   "outputs": [],
   "source": [
    "Rsquar = r2_score(Y_test, Y_pred)\n",
    "Rsquar"
   ]
  },
  {
   "cell_type": "code",
   "execution_count": null,
   "metadata": {},
   "outputs": [],
   "source": [
    "from sklearn.ensemble import GradientBoostingRegressor\n",
    "reg1 = GradientBoostingRegressor()\n",
    "reg1.fit(X_train, Y_train)\n",
    "Y_gradient_boosting_pred = reg1.predict(X_test)\n",
    "Y_gradient_boosting_pred"
   ]
  },
  {
   "cell_type": "code",
   "execution_count": null,
   "metadata": {},
   "outputs": [],
   "source": [
    "Rsquar2 = r2_score(Y_test, Y_gradient_boosting_pred)\n",
    "Rsquar2"
   ]
  },
  {
   "cell_type": "code",
   "execution_count": null,
   "metadata": {},
   "outputs": [],
   "source": [
    "from sklearn.ensemble import ExtraTreesRegressor\n",
    "reg = ExtraTreesRegressor(n_estimators=100, random_state=0).fit(X_train, Y_train)\n",
    "Y_pred3 = reg.predict(X_test)\n",
    "Y_pred3"
   ]
  },
  {
   "cell_type": "code",
   "execution_count": null,
   "metadata": {},
   "outputs": [],
   "source": [
    "Rsquar3 = r2_score(Y_test, Y_pred3)\n",
    "Rsquar3"
   ]
  },
  {
   "cell_type": "code",
   "execution_count": null,
   "metadata": {},
   "outputs": [],
   "source": [
    "import xgboost as xgb\n",
    "xgb_model = xgb.XGBRegressor(objective=\"reg:linear\", random_state=42)\n",
    "xgb_model.fit(X_train, Y_train)\n",
    "Y_xgb_pred = xgb_model.predict(X_test)\n",
    "Y_xgb_pred"
   ]
  },
  {
   "cell_type": "code",
   "execution_count": null,
   "metadata": {},
   "outputs": [],
   "source": [
    "Rsquar3 = r2_score(Y_test, Y_xgb_pred)\n",
    "Rsquar3"
   ]
  },
  {
   "cell_type": "code",
   "execution_count": 31,
   "metadata": {},
   "outputs": [
    {
     "name": "stderr",
     "output_type": "stream",
     "text": [
      "Using TensorFlow backend.\n",
      "<ipython-input-31-aaa942982a43>:10: UserWarning: The `dropout` argument is no longer support in `Embedding`. You can apply a `keras.layers.SpatialDropout1D` layer right after the `Embedding` layer to get the same behavior.\n",
      "  model.add(Embedding(2500, embed_dim,input_length = X.shape[1], dropout = 0.2))\n",
      "<ipython-input-31-aaa942982a43>:11: UserWarning: Update your `LSTM` call to the Keras 2 API: `LSTM(200, dropout=0.2, recurrent_dropout=0.2)`\n",
      "  model.add(LSTM(lstm_out, dropout_U = 0.2, dropout_W = 0.2))\n"
     ]
    },
    {
     "name": "stdout",
     "output_type": "stream",
     "text": [
      "Model: \"sequential_1\"\n",
      "_________________________________________________________________\n",
      "Layer (type)                 Output Shape              Param #   \n",
      "=================================================================\n",
      "embedding_1 (Embedding)      (None, 21, 128)           320000    \n",
      "_________________________________________________________________\n",
      "lstm_1 (LSTM)                (None, 200)               263200    \n",
      "_________________________________________________________________\n",
      "dense_1 (Dense)              (None, 2)                 402       \n",
      "=================================================================\n",
      "Total params: 583,602\n",
      "Trainable params: 583,602\n",
      "Non-trainable params: 0\n",
      "_________________________________________________________________\n",
      "None\n"
     ]
    }
   ],
   "source": [
    "embed_dim = 128\n",
    "lstm_out = 200\n",
    "batch_size = 32\n",
    "from keras.models import Sequential\n",
    "import tensorflow\n",
    "from keras.layers import Embedding\n",
    "from keras.layers.recurrent import LSTM\n",
    "from keras.layers.core import Dense\n",
    "model = Sequential()\n",
    "model.add(Embedding(2500, embed_dim,input_length = X.shape[1], dropout = 0.2))\n",
    "model.add(LSTM(lstm_out, dropout_U = 0.2, dropout_W = 0.2))\n",
    "model.add(Dense(2,activation='softmax'))\n",
    "model.compile(loss = 'categorical_crossentropy', optimizer='adam',metrics = ['accuracy'])\n",
    "print(model.summary())"
   ]
  },
  {
   "cell_type": "code",
   "execution_count": null,
   "metadata": {},
   "outputs": [],
   "source": [
    "model.fit(X_train, Y_train, batch_size =batch_size, nb_epoch = 1,  verbose = 5)"
   ]
  },
  {
   "cell_type": "code",
   "execution_count": null,
   "metadata": {},
   "outputs": [],
   "source": [
    "score,acc = model.evaluate(x_test,y_test,verbose=2,batch_size=batch_size)\n",
    "print(\"score:%.2f \"%(score))\n",
    "print(\"Validation Accuracy:%.2f \"%(acc))"
   ]
  }
 ],
 "metadata": {
  "kernelspec": {
   "display_name": "Python 3",
   "language": "python",
   "name": "python3"
  },
  "language_info": {
   "codemirror_mode": {
    "name": "ipython",
    "version": 3
   },
   "file_extension": ".py",
   "mimetype": "text/x-python",
   "name": "python",
   "nbconvert_exporter": "python",
   "pygments_lexer": "ipython3",
   "version": "3.8.0"
  }
 },
 "nbformat": 4,
 "nbformat_minor": 4
}
