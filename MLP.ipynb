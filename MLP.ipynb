{
 "cells": [
  {
   "cell_type": "code",
   "execution_count": 4,
   "metadata": {},
   "outputs": [],
   "source": [
    "import numpy as np\n",
    "\n",
    "import pandas as pd\n",
    "\n",
    "import tensorflow as tf \n",
    "\n",
    "import matplotlib.pyplot as plt "
   ]
  },
  {
   "cell_type": "code",
   "execution_count": 2,
   "metadata": {},
   "outputs": [],
   "source": [
    "df = pd.read_csv('MiningProcess_Flotation_Plant_Database_hour.csv')\n",
    "df.set_index('date', inplace=True)"
   ]
  },
  {
   "cell_type": "code",
   "execution_count": 3,
   "metadata": {},
   "outputs": [
    {
     "data": {
      "text/html": [
       "<div>\n",
       "<style scoped>\n",
       "    .dataframe tbody tr th:only-of-type {\n",
       "        vertical-align: middle;\n",
       "    }\n",
       "\n",
       "    .dataframe tbody tr th {\n",
       "        vertical-align: top;\n",
       "    }\n",
       "\n",
       "    .dataframe thead th {\n",
       "        text-align: right;\n",
       "    }\n",
       "</style>\n",
       "<table border=\"1\" class=\"dataframe\">\n",
       "  <thead>\n",
       "    <tr style=\"text-align: right;\">\n",
       "      <th></th>\n",
       "      <th>% Iron Feed</th>\n",
       "      <th>% Silica Feed</th>\n",
       "      <th>Starch Flow</th>\n",
       "      <th>Amina Flow</th>\n",
       "      <th>Ore Pulp Flow</th>\n",
       "      <th>Ore Pulp pH</th>\n",
       "      <th>Ore Pulp Density</th>\n",
       "      <th>p-Flotation Column 01 Air Flow</th>\n",
       "      <th>p-Flotation Column 02 Air Flow</th>\n",
       "      <th>p-Flotation Column 03 Air Flow</th>\n",
       "      <th>...</th>\n",
       "      <th>p-Flotation Column 07 Air Flow</th>\n",
       "      <th>p-Flotation Column 01 Level</th>\n",
       "      <th>p-Flotation Column 02 Level</th>\n",
       "      <th>p-Flotation Column 03 Level</th>\n",
       "      <th>p-Flotation Column 04 Level</th>\n",
       "      <th>p-Flotation Column 05 Level</th>\n",
       "      <th>p-Flotation Column 06 Level</th>\n",
       "      <th>p-Flotation Column 07 Level</th>\n",
       "      <th>% Iron Concentrate</th>\n",
       "      <th>% Silica Concentrate</th>\n",
       "    </tr>\n",
       "    <tr>\n",
       "      <th>date</th>\n",
       "      <th></th>\n",
       "      <th></th>\n",
       "      <th></th>\n",
       "      <th></th>\n",
       "      <th></th>\n",
       "      <th></th>\n",
       "      <th></th>\n",
       "      <th></th>\n",
       "      <th></th>\n",
       "      <th></th>\n",
       "      <th></th>\n",
       "      <th></th>\n",
       "      <th></th>\n",
       "      <th></th>\n",
       "      <th></th>\n",
       "      <th></th>\n",
       "      <th></th>\n",
       "      <th></th>\n",
       "      <th></th>\n",
       "      <th></th>\n",
       "      <th></th>\n",
       "    </tr>\n",
       "  </thead>\n",
       "  <tbody>\n",
       "    <tr>\n",
       "      <th>2017-03-10 01:00:00</th>\n",
       "      <td>55.2</td>\n",
       "      <td>16.98</td>\n",
       "      <td>3162.625026</td>\n",
       "      <td>578.786678</td>\n",
       "      <td>398.753368</td>\n",
       "      <td>10.113487</td>\n",
       "      <td>1.729558</td>\n",
       "      <td>251.166672</td>\n",
       "      <td>250.226086</td>\n",
       "      <td>250.178287</td>\n",
       "      <td>...</td>\n",
       "      <td>250.208184</td>\n",
       "      <td>450.383776</td>\n",
       "      <td>446.891845</td>\n",
       "      <td>450.474523</td>\n",
       "      <td>449.912259</td>\n",
       "      <td>455.792161</td>\n",
       "      <td>464.383310</td>\n",
       "      <td>450.532747</td>\n",
       "      <td>66.91</td>\n",
       "      <td>1.31</td>\n",
       "    </tr>\n",
       "    <tr>\n",
       "      <th>2017-03-10 02:00:00</th>\n",
       "      <td>55.2</td>\n",
       "      <td>16.98</td>\n",
       "      <td>3133.256389</td>\n",
       "      <td>537.219661</td>\n",
       "      <td>399.871822</td>\n",
       "      <td>10.129742</td>\n",
       "      <td>1.667784</td>\n",
       "      <td>249.880589</td>\n",
       "      <td>250.214050</td>\n",
       "      <td>250.033317</td>\n",
       "      <td>...</td>\n",
       "      <td>249.897572</td>\n",
       "      <td>449.373361</td>\n",
       "      <td>450.249356</td>\n",
       "      <td>450.081222</td>\n",
       "      <td>450.328806</td>\n",
       "      <td>448.722983</td>\n",
       "      <td>455.501528</td>\n",
       "      <td>451.387700</td>\n",
       "      <td>67.06</td>\n",
       "      <td>1.11</td>\n",
       "    </tr>\n",
       "    <tr>\n",
       "      <th>2017-03-10 03:00:00</th>\n",
       "      <td>55.2</td>\n",
       "      <td>16.98</td>\n",
       "      <td>3479.482944</td>\n",
       "      <td>591.906744</td>\n",
       "      <td>398.763806</td>\n",
       "      <td>10.048403</td>\n",
       "      <td>1.732711</td>\n",
       "      <td>250.161328</td>\n",
       "      <td>250.104167</td>\n",
       "      <td>250.046350</td>\n",
       "      <td>...</td>\n",
       "      <td>250.484183</td>\n",
       "      <td>449.972878</td>\n",
       "      <td>450.868711</td>\n",
       "      <td>450.901822</td>\n",
       "      <td>451.145822</td>\n",
       "      <td>451.134189</td>\n",
       "      <td>459.981311</td>\n",
       "      <td>450.296722</td>\n",
       "      <td>66.97</td>\n",
       "      <td>1.27</td>\n",
       "    </tr>\n",
       "    <tr>\n",
       "      <th>2017-03-10 04:00:00</th>\n",
       "      <td>55.2</td>\n",
       "      <td>16.98</td>\n",
       "      <td>3228.036436</td>\n",
       "      <td>593.170106</td>\n",
       "      <td>399.866983</td>\n",
       "      <td>9.918614</td>\n",
       "      <td>1.731056</td>\n",
       "      <td>250.208772</td>\n",
       "      <td>250.204761</td>\n",
       "      <td>250.120861</td>\n",
       "      <td>...</td>\n",
       "      <td>250.157622</td>\n",
       "      <td>487.940706</td>\n",
       "      <td>491.462111</td>\n",
       "      <td>487.387206</td>\n",
       "      <td>494.528183</td>\n",
       "      <td>495.664011</td>\n",
       "      <td>502.763850</td>\n",
       "      <td>494.939889</td>\n",
       "      <td>66.75</td>\n",
       "      <td>1.36</td>\n",
       "    </tr>\n",
       "    <tr>\n",
       "      <th>2017-03-10 05:00:00</th>\n",
       "      <td>55.2</td>\n",
       "      <td>16.98</td>\n",
       "      <td>3327.280739</td>\n",
       "      <td>619.710806</td>\n",
       "      <td>399.615089</td>\n",
       "      <td>9.746029</td>\n",
       "      <td>1.765879</td>\n",
       "      <td>249.917800</td>\n",
       "      <td>250.160494</td>\n",
       "      <td>250.013500</td>\n",
       "      <td>...</td>\n",
       "      <td>250.078639</td>\n",
       "      <td>549.031539</td>\n",
       "      <td>549.983156</td>\n",
       "      <td>549.459572</td>\n",
       "      <td>549.975483</td>\n",
       "      <td>549.512533</td>\n",
       "      <td>560.696300</td>\n",
       "      <td>550.271772</td>\n",
       "      <td>66.63</td>\n",
       "      <td>1.34</td>\n",
       "    </tr>\n",
       "  </tbody>\n",
       "</table>\n",
       "<p>5 rows × 23 columns</p>\n",
       "</div>"
      ],
      "text/plain": [
       "                     % Iron Feed  % Silica Feed  Starch Flow  Amina Flow  \\\n",
       "date                                                                       \n",
       "2017-03-10 01:00:00         55.2          16.98  3162.625026  578.786678   \n",
       "2017-03-10 02:00:00         55.2          16.98  3133.256389  537.219661   \n",
       "2017-03-10 03:00:00         55.2          16.98  3479.482944  591.906744   \n",
       "2017-03-10 04:00:00         55.2          16.98  3228.036436  593.170106   \n",
       "2017-03-10 05:00:00         55.2          16.98  3327.280739  619.710806   \n",
       "\n",
       "                     Ore Pulp Flow  Ore Pulp pH  Ore Pulp Density  \\\n",
       "date                                                                \n",
       "2017-03-10 01:00:00     398.753368    10.113487          1.729558   \n",
       "2017-03-10 02:00:00     399.871822    10.129742          1.667784   \n",
       "2017-03-10 03:00:00     398.763806    10.048403          1.732711   \n",
       "2017-03-10 04:00:00     399.866983     9.918614          1.731056   \n",
       "2017-03-10 05:00:00     399.615089     9.746029          1.765879   \n",
       "\n",
       "                     p-Flotation Column 01 Air Flow  \\\n",
       "date                                                  \n",
       "2017-03-10 01:00:00                      251.166672   \n",
       "2017-03-10 02:00:00                      249.880589   \n",
       "2017-03-10 03:00:00                      250.161328   \n",
       "2017-03-10 04:00:00                      250.208772   \n",
       "2017-03-10 05:00:00                      249.917800   \n",
       "\n",
       "                     p-Flotation Column 02 Air Flow  \\\n",
       "date                                                  \n",
       "2017-03-10 01:00:00                      250.226086   \n",
       "2017-03-10 02:00:00                      250.214050   \n",
       "2017-03-10 03:00:00                      250.104167   \n",
       "2017-03-10 04:00:00                      250.204761   \n",
       "2017-03-10 05:00:00                      250.160494   \n",
       "\n",
       "                     p-Flotation Column 03 Air Flow  ...  \\\n",
       "date                                                 ...   \n",
       "2017-03-10 01:00:00                      250.178287  ...   \n",
       "2017-03-10 02:00:00                      250.033317  ...   \n",
       "2017-03-10 03:00:00                      250.046350  ...   \n",
       "2017-03-10 04:00:00                      250.120861  ...   \n",
       "2017-03-10 05:00:00                      250.013500  ...   \n",
       "\n",
       "                     p-Flotation Column 07 Air Flow  \\\n",
       "date                                                  \n",
       "2017-03-10 01:00:00                      250.208184   \n",
       "2017-03-10 02:00:00                      249.897572   \n",
       "2017-03-10 03:00:00                      250.484183   \n",
       "2017-03-10 04:00:00                      250.157622   \n",
       "2017-03-10 05:00:00                      250.078639   \n",
       "\n",
       "                     p-Flotation Column 01 Level  p-Flotation Column 02 Level  \\\n",
       "date                                                                            \n",
       "2017-03-10 01:00:00                   450.383776                   446.891845   \n",
       "2017-03-10 02:00:00                   449.373361                   450.249356   \n",
       "2017-03-10 03:00:00                   449.972878                   450.868711   \n",
       "2017-03-10 04:00:00                   487.940706                   491.462111   \n",
       "2017-03-10 05:00:00                   549.031539                   549.983156   \n",
       "\n",
       "                     p-Flotation Column 03 Level  p-Flotation Column 04 Level  \\\n",
       "date                                                                            \n",
       "2017-03-10 01:00:00                   450.474523                   449.912259   \n",
       "2017-03-10 02:00:00                   450.081222                   450.328806   \n",
       "2017-03-10 03:00:00                   450.901822                   451.145822   \n",
       "2017-03-10 04:00:00                   487.387206                   494.528183   \n",
       "2017-03-10 05:00:00                   549.459572                   549.975483   \n",
       "\n",
       "                     p-Flotation Column 05 Level  p-Flotation Column 06 Level  \\\n",
       "date                                                                            \n",
       "2017-03-10 01:00:00                   455.792161                   464.383310   \n",
       "2017-03-10 02:00:00                   448.722983                   455.501528   \n",
       "2017-03-10 03:00:00                   451.134189                   459.981311   \n",
       "2017-03-10 04:00:00                   495.664011                   502.763850   \n",
       "2017-03-10 05:00:00                   549.512533                   560.696300   \n",
       "\n",
       "                     p-Flotation Column 07 Level  % Iron Concentrate  \\\n",
       "date                                                                   \n",
       "2017-03-10 01:00:00                   450.532747               66.91   \n",
       "2017-03-10 02:00:00                   451.387700               67.06   \n",
       "2017-03-10 03:00:00                   450.296722               66.97   \n",
       "2017-03-10 04:00:00                   494.939889               66.75   \n",
       "2017-03-10 05:00:00                   550.271772               66.63   \n",
       "\n",
       "                     % Silica Concentrate  \n",
       "date                                       \n",
       "2017-03-10 01:00:00                  1.31  \n",
       "2017-03-10 02:00:00                  1.11  \n",
       "2017-03-10 03:00:00                  1.27  \n",
       "2017-03-10 04:00:00                  1.36  \n",
       "2017-03-10 05:00:00                  1.34  \n",
       "\n",
       "[5 rows x 23 columns]"
      ]
     },
     "execution_count": 3,
     "metadata": {},
     "output_type": "execute_result"
    }
   ],
   "source": [
    "df.head()"
   ]
  },
  {
   "cell_type": "code",
   "execution_count": 5,
   "metadata": {},
   "outputs": [],
   "source": [
    "# Parameters \n",
    "learning_rate = 0.001 \n",
    "training_epochs = 20 \n",
    "batch_size = 100 \n",
    "display_step = 1 "
   ]
  },
  {
   "cell_type": "code",
   "execution_count": 6,
   "metadata": {},
   "outputs": [],
   "source": [
    "# Network Parameters \n",
    "n_hidden_1 = 256 "
   ]
  },
  {
   "cell_type": "code",
   "execution_count": 8,
   "metadata": {},
   "outputs": [],
   "source": [
    "df = df.drop(['% Iron Concentrate'], axis=1)"
   ]
  },
  {
   "cell_type": "code",
   "execution_count": 9,
   "metadata": {},
   "outputs": [],
   "source": [
    "Y = df['% Silica Concentrate']\n",
    "X = df.drop(['% Silica Concentrate'], axis=1)"
   ]
  },
  {
   "cell_type": "code",
   "execution_count": 10,
   "metadata": {},
   "outputs": [],
   "source": [
    "from sklearn import preprocessing\n",
    "min_max_scaler = preprocessing.MinMaxScaler()\n",
    "X_scaled = pd.DataFrame(min_max_scaler.fit_transform(X), columns=X.columns)"
   ]
  },
  {
   "cell_type": "code",
   "execution_count": 11,
   "metadata": {},
   "outputs": [],
   "source": [
    "from sklearn.model_selection import train_test_split\n",
    "X_train, X_test, Y_train, Y_test = train_test_split(X_scaled, Y, test_size=0.2, random_state=42)"
   ]
  },
  {
   "cell_type": "code",
   "execution_count": 13,
   "metadata": {},
   "outputs": [
    {
     "name": "stdout",
     "output_type": "stream",
     "text": [
      "(3277, 21) (820, 21) (3277,) (820,)\n"
     ]
    }
   ],
   "source": [
    "print(X_train.shape, X_test.shape, Y_train.shape, Y_test.shape)"
   ]
  },
  {
   "cell_type": "markdown",
   "metadata": {},
   "source": [
    "MLP Model\n"
   ]
  },
  {
   "cell_type": "code",
   "execution_count": 56,
   "metadata": {},
   "outputs": [
    {
     "name": "stdout",
     "output_type": "stream",
     "text": [
      "MSE: 1.064, RMSE: 1.032\n",
      "Predicted: 1605.545\n"
     ]
    }
   ],
   "source": [
    "from tensorflow.keras import Sequential\n",
    "from tensorflow.keras.layers import Dense \n",
    "from math import sqrt  \n",
    "\n",
    "\n",
    "n_features = X_train.shape[1]\n",
    "\n",
    "# define model\n",
    "model = Sequential()\n",
    "model.add(Dense(21, activation='relu', kernel_initializer='he_normal', input_shape=(n_features,)))\n",
    "model.add(Dense(8, activation='relu', kernel_initializer='he_normal'))\n",
    "model.add(Dense(1))\n",
    "\n",
    "# compile the model\n",
    "model.compile(optimizer='adam', loss='mse')\n",
    "# fit the model\n",
    "model.fit(X_train, Y_train, epochs=30, batch_size=32, verbose=0)\n",
    "# evaluate the model\n",
    "error = model.evaluate(X_test, Y_test, verbose=0)\n",
    "print('MSE: %.3f, RMSE: %.3f' % (error, sqrt(error)))\n",
    "# make a prediction\n",
    "row = [55.2,16.98,3162.625026,578.786678,398.753368,10.113487,1.729558,251.166672,250.226086,250.178287,295.0960,306.400,251.232529,250.208184,450.383776,446.891845,450.474523,449.912259,455.792161,464.38331,450.532747]\n",
    "yhat = model.predict([row])\n",
    "print('Predicted: %.3f' % yhat)\n",
    "\n"
   ]
  },
  {
   "cell_type": "code",
   "execution_count": 57,
   "metadata": {},
   "outputs": [
    {
     "name": "stdout",
     "output_type": "stream",
     "text": [
      "Model: \"sequential_10\"\n",
      "_________________________________________________________________\n",
      "Layer (type)                 Output Shape              Param #   \n",
      "=================================================================\n",
      "dense_29 (Dense)             (None, 21)                462       \n",
      "_________________________________________________________________\n",
      "dense_30 (Dense)             (None, 8)                 176       \n",
      "_________________________________________________________________\n",
      "dense_31 (Dense)             (None, 1)                 9         \n",
      "=================================================================\n",
      "Total params: 647\n",
      "Trainable params: 647\n",
      "Non-trainable params: 0\n",
      "_________________________________________________________________\n"
     ]
    }
   ],
   "source": [
    "model.summary()"
   ]
  },
  {
   "cell_type": "markdown",
   "metadata": {},
   "source": []
  },
  {
   "cell_type": "code",
   "execution_count": null,
   "metadata": {},
   "outputs": [],
   "source": []
  },
  {
   "cell_type": "markdown",
   "metadata": {},
   "source": []
  },
  {
   "cell_type": "code",
   "execution_count": 49,
   "metadata": {},
   "outputs": [
    {
     "data": {
      "text/plain": [
       "array([-547.42684558])"
      ]
     },
     "execution_count": 49,
     "metadata": {},
     "output_type": "execute_result"
    }
   ],
   "source": [
    "from sklearn.neural_network import MLPRegressor\n",
    "regr = MLPRegressor(random_state=1, max_iter=500).fit(X_train, Y_train)\n",
    "\n",
    "regr.predict(X_test)\n",
    "#regr.score(X_test, Y_test)\n",
    "#row2=np.asarray(row)\n",
    "#row1=row2.reshape(1, -1)\n",
    "#regr.predict(row1)"
   ]
  },
  {
   "cell_type": "code",
   "execution_count": 50,
   "metadata": {},
   "outputs": [
    {
     "data": {
      "text/plain": [
       "0.2726120297352821"
      ]
     },
     "execution_count": 50,
     "metadata": {},
     "output_type": "execute_result"
    }
   ],
   "source": [
    "regr.score(X_test, Y_test)"
   ]
  },
  {
   "cell_type": "code",
   "execution_count": 51,
   "metadata": {},
   "outputs": [
    {
     "ename": "NameError",
     "evalue": "name 'self' is not defined",
     "output_type": "error",
     "traceback": [
      "\u001b[1;31m---------------------------------------------------------------------------\u001b[0m",
      "\u001b[1;31mNameError\u001b[0m                                 Traceback (most recent call last)",
      "\u001b[1;32m<ipython-input-51-0a918ad6ad87>\u001b[0m in \u001b[0;36m<module>\u001b[1;34m\u001b[0m\n\u001b[1;32m----> 1\u001b[1;33m \u001b[0mself\u001b[0m\u001b[1;33m.\u001b[0m\u001b[0mresult\u001b[0m\u001b[1;33m=\u001b[0m\u001b[0mself\u001b[0m\u001b[1;33m.\u001b[0m\u001b[0mregr\u001b[0m\u001b[1;33m.\u001b[0m\u001b[0mpredict\u001b[0m\u001b[1;33m(\u001b[0m\u001b[0mrow1\u001b[0m\u001b[1;33m)\u001b[0m\u001b[1;33m\u001b[0m\u001b[1;33m\u001b[0m\u001b[0m\n\u001b[0m",
      "\u001b[1;31mNameError\u001b[0m: name 'self' is not defined"
     ]
    }
   ],
   "source": [
    "self.result=self.regr.predict(row1)"
   ]
  },
  {
   "cell_type": "code",
   "execution_count": 52,
   "metadata": {},
   "outputs": [],
   "source": [
    "result = regr.predict(row1)"
   ]
  },
  {
   "cell_type": "code",
   "execution_count": 53,
   "metadata": {},
   "outputs": [
    {
     "data": {
      "text/plain": [
       "array([-547.42684558])"
      ]
     },
     "execution_count": 53,
     "metadata": {},
     "output_type": "execute_result"
    }
   ],
   "source": [
    "result\n"
   ]
  },
  {
   "cell_type": "code",
   "execution_count": null,
   "metadata": {},
   "outputs": [],
   "source": []
  }
 ],
 "metadata": {
  "kernelspec": {
   "display_name": "Python 3",
   "language": "python",
   "name": "python3"
  },
  "language_info": {
   "codemirror_mode": {
    "name": "ipython",
    "version": 3
   },
   "file_extension": ".py",
   "mimetype": "text/x-python",
   "name": "python",
   "nbconvert_exporter": "python",
   "pygments_lexer": "ipython3",
   "version": "3.8.0"
  }
 },
 "nbformat": 4,
 "nbformat_minor": 4
}
