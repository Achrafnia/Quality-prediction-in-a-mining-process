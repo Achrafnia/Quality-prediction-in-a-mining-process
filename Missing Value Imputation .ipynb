{
 "cells": [
  {
   "cell_type": "code",
   "execution_count": 1,
   "metadata": {},
   "outputs": [],
   "source": [
    "import numpy as np\n",
    "import pandas as pd\n",
    "import matplotlib.pyplot as plt\n",
    "import scipy"
   ]
  },
  {
   "cell_type": "code",
   "execution_count": 2,
   "metadata": {},
   "outputs": [],
   "source": [
    "df = pd.read_csv('MiningProcess_Flotation_Plant_Database_hour.csv')\n",
    "df.set_index('date', inplace=True)"
   ]
  },
  {
   "cell_type": "code",
   "execution_count": 3,
   "metadata": {},
   "outputs": [
    {
     "data": {
      "text/html": [
       "<div>\n",
       "<style scoped>\n",
       "    .dataframe tbody tr th:only-of-type {\n",
       "        vertical-align: middle;\n",
       "    }\n",
       "\n",
       "    .dataframe tbody tr th {\n",
       "        vertical-align: top;\n",
       "    }\n",
       "\n",
       "    .dataframe thead th {\n",
       "        text-align: right;\n",
       "    }\n",
       "</style>\n",
       "<table border=\"1\" class=\"dataframe\">\n",
       "  <thead>\n",
       "    <tr style=\"text-align: right;\">\n",
       "      <th></th>\n",
       "      <th>% Iron Feed</th>\n",
       "      <th>% Silica Feed</th>\n",
       "      <th>Starch Flow</th>\n",
       "      <th>Amina Flow</th>\n",
       "      <th>Ore Pulp Flow</th>\n",
       "      <th>Ore Pulp pH</th>\n",
       "      <th>Ore Pulp Density</th>\n",
       "      <th>p-Flotation Column 01 Air Flow</th>\n",
       "      <th>p-Flotation Column 02 Air Flow</th>\n",
       "      <th>p-Flotation Column 03 Air Flow</th>\n",
       "      <th>...</th>\n",
       "      <th>p-Flotation Column 07 Air Flow</th>\n",
       "      <th>p-Flotation Column 01 Level</th>\n",
       "      <th>p-Flotation Column 02 Level</th>\n",
       "      <th>p-Flotation Column 03 Level</th>\n",
       "      <th>p-Flotation Column 04 Level</th>\n",
       "      <th>p-Flotation Column 05 Level</th>\n",
       "      <th>p-Flotation Column 06 Level</th>\n",
       "      <th>p-Flotation Column 07 Level</th>\n",
       "      <th>% Iron Concentrate</th>\n",
       "      <th>% Silica Concentrate</th>\n",
       "    </tr>\n",
       "    <tr>\n",
       "      <th>date</th>\n",
       "      <th></th>\n",
       "      <th></th>\n",
       "      <th></th>\n",
       "      <th></th>\n",
       "      <th></th>\n",
       "      <th></th>\n",
       "      <th></th>\n",
       "      <th></th>\n",
       "      <th></th>\n",
       "      <th></th>\n",
       "      <th></th>\n",
       "      <th></th>\n",
       "      <th></th>\n",
       "      <th></th>\n",
       "      <th></th>\n",
       "      <th></th>\n",
       "      <th></th>\n",
       "      <th></th>\n",
       "      <th></th>\n",
       "      <th></th>\n",
       "      <th></th>\n",
       "    </tr>\n",
       "  </thead>\n",
       "  <tbody>\n",
       "    <tr>\n",
       "      <th>2017-03-10 01:00:00</th>\n",
       "      <td>55.2</td>\n",
       "      <td>16.98</td>\n",
       "      <td>3162.625026</td>\n",
       "      <td>578.786678</td>\n",
       "      <td>398.753368</td>\n",
       "      <td>10.113487</td>\n",
       "      <td>1.729558</td>\n",
       "      <td>251.166672</td>\n",
       "      <td>250.226086</td>\n",
       "      <td>250.178287</td>\n",
       "      <td>...</td>\n",
       "      <td>250.208184</td>\n",
       "      <td>450.383776</td>\n",
       "      <td>446.891845</td>\n",
       "      <td>450.474523</td>\n",
       "      <td>449.912259</td>\n",
       "      <td>455.792161</td>\n",
       "      <td>464.38331</td>\n",
       "      <td>450.532747</td>\n",
       "      <td>66.91</td>\n",
       "      <td>1.31</td>\n",
       "    </tr>\n",
       "  </tbody>\n",
       "</table>\n",
       "<p>1 rows × 23 columns</p>\n",
       "</div>"
      ],
      "text/plain": [
       "                     % Iron Feed  % Silica Feed  Starch Flow  Amina Flow  \\\n",
       "date                                                                       \n",
       "2017-03-10 01:00:00         55.2          16.98  3162.625026  578.786678   \n",
       "\n",
       "                     Ore Pulp Flow  Ore Pulp pH  Ore Pulp Density  \\\n",
       "date                                                                \n",
       "2017-03-10 01:00:00     398.753368    10.113487          1.729558   \n",
       "\n",
       "                     p-Flotation Column 01 Air Flow  \\\n",
       "date                                                  \n",
       "2017-03-10 01:00:00                      251.166672   \n",
       "\n",
       "                     p-Flotation Column 02 Air Flow  \\\n",
       "date                                                  \n",
       "2017-03-10 01:00:00                      250.226086   \n",
       "\n",
       "                     p-Flotation Column 03 Air Flow  ...  \\\n",
       "date                                                 ...   \n",
       "2017-03-10 01:00:00                      250.178287  ...   \n",
       "\n",
       "                     p-Flotation Column 07 Air Flow  \\\n",
       "date                                                  \n",
       "2017-03-10 01:00:00                      250.208184   \n",
       "\n",
       "                     p-Flotation Column 01 Level  p-Flotation Column 02 Level  \\\n",
       "date                                                                            \n",
       "2017-03-10 01:00:00                   450.383776                   446.891845   \n",
       "\n",
       "                     p-Flotation Column 03 Level  p-Flotation Column 04 Level  \\\n",
       "date                                                                            \n",
       "2017-03-10 01:00:00                   450.474523                   449.912259   \n",
       "\n",
       "                     p-Flotation Column 05 Level  p-Flotation Column 06 Level  \\\n",
       "date                                                                            \n",
       "2017-03-10 01:00:00                   455.792161                    464.38331   \n",
       "\n",
       "                     p-Flotation Column 07 Level  % Iron Concentrate  \\\n",
       "date                                                                   \n",
       "2017-03-10 01:00:00                   450.532747               66.91   \n",
       "\n",
       "                     % Silica Concentrate  \n",
       "date                                       \n",
       "2017-03-10 01:00:00                  1.31  \n",
       "\n",
       "[1 rows x 23 columns]"
      ]
     },
     "execution_count": 3,
     "metadata": {},
     "output_type": "execute_result"
    }
   ],
   "source": [
    "df.head(1)"
   ]
  },
  {
   "cell_type": "code",
   "execution_count": 4,
   "metadata": {},
   "outputs": [
    {
     "data": {
      "text/plain": [
       "False"
      ]
     },
     "execution_count": 4,
     "metadata": {},
     "output_type": "execute_result"
    }
   ],
   "source": [
    "df.isnull().values.any()\n"
   ]
  },
  {
   "cell_type": "code",
   "execution_count": null,
   "metadata": {},
   "outputs": [],
   "source": []
  }
 ],
 "metadata": {
  "kernelspec": {
   "display_name": "Python 3",
   "language": "python",
   "name": "python3"
  },
  "language_info": {
   "codemirror_mode": {
    "name": "ipython",
    "version": 3
   },
   "file_extension": ".py",
   "mimetype": "text/x-python",
   "name": "python",
   "nbconvert_exporter": "python",
   "pygments_lexer": "ipython3",
   "version": "3.8.0"
  }
 },
 "nbformat": 4,
 "nbformat_minor": 4
}
